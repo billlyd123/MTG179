{
 "cells": [
  {
   "cell_type": "code",
   "execution_count": 1,
   "metadata": {},
   "outputs": [],
   "source": [
    "import pandas as pd\n",
    "import ast\n",
    "import pyGM as gm\n",
    "import numpy as np"
   ]
  },
  {
   "cell_type": "code",
   "execution_count": 2,
   "metadata": {},
   "outputs": [],
   "source": [
    "cards = pd.read_csv('data/cards.csv')"
   ]
  },
  {
   "cell_type": "code",
   "execution_count": 3,
   "metadata": {},
   "outputs": [],
   "source": [
    "cards['cmc'] = cards['manaCost'].apply(lambda x: ''.join(''.join(str(x).split('{')).split('}')))\n",
    "for index, row in cards.iterrows():\n",
    "    X = row['cmc']\n",
    "    list(X)\n",
    "    x_ = 0\n",
    "    for x in X:\n",
    "        try:\n",
    "            x_+=int(x)\n",
    "        except:\n",
    "            x_+=1\n",
    "    row['cmc']=x_"
   ]
  },
  {
   "cell_type": "code",
   "execution_count": 4,
   "metadata": {},
   "outputs": [],
   "source": [
    "decks = dict()\n",
    "decks['modern2018'] = pd.read_csv('data/deckListmodernMetaDecks2018.csv')\n",
    "decks['modern2019'] = pd.read_csv('data/deckListmodernMetaDecks2019.csv')\n",
    "decks['modern2020'] = pd.read_csv('data/deckListmodernMetaDecks2020.csv')\n"
   ]
  },
  {
   "cell_type": "code",
   "execution_count": 5,
   "metadata": {},
   "outputs": [],
   "source": [
    "decklists = dict()\n",
    "decklists['modern2020'] = decks['modern2020'][decks['modern2020']['1']=='Red Deck Wins']['3']\n",
    "decklists['modern2019'] = decks['modern2019'][decks['modern2019']['1']=='Red Deck Wins']['3']\n",
    "decklists['modern2018'] = decks['modern2018'][decks['modern2018']['1']=='Red Deck Wins']['3']\n"
   ]
  },
  {
   "cell_type": "code",
   "execution_count": 6,
   "metadata": {},
   "outputs": [],
   "source": [
    "decklists['modern2020'] = decklists['modern2020'].to_dict()[0]\n",
    "decklists['modern2020'] = ast.literal_eval(decklists['modern2020'])\n",
    "decklists['modern2019'] = decklists['modern2019'].to_dict()[0]\n",
    "decklists['modern2019'] = ast.literal_eval(decklists['modern2019'])\n",
    "decklists['modern2018'] = decklists['modern2018'].to_dict()[1]\n",
    "decklists['modern2018'] = ast.literal_eval(decklists['modern2018'])"
   ]
  },
  {
   "cell_type": "code",
   "execution_count": 7,
   "metadata": {},
   "outputs": [],
   "source": [
    "simMain = dict()\n",
    "simSide = dict()\n",
    "for D in decklists:\n",
    "    for i,deck in enumerate(decklists[D]):\n",
    "        for ty in deck:\n",
    "            if ty=='SIDEBOARD':\n",
    "                sim=simSide\n",
    "            else:\n",
    "                sim=simMain\n",
    "            for card in deck[ty]:\n",
    "                card = card.split(' ')\n",
    "                freq = card[0]\n",
    "                name = ' '.join(card[1:])\n",
    "                if name not in sim:\n",
    "                    sim[name] = list()\n",
    "                    sim[name].append([i,int(freq)])\n",
    "                else:\n",
    "                    isIn = False\n",
    "                    for i_,freq_ in sim[name]:\n",
    "                        if i_==i:\n",
    "                            isIn=True\n",
    "                            freq_+=int(freq)\n",
    "                    if isIn==False:\n",
    "                        sim[name].append([i,int(freq)])\n"
   ]
  },
  {
   "cell_type": "code",
   "execution_count": 18,
   "metadata": {},
   "outputs": [],
   "source": [
    "sim=simSide\n",
    "columns=list(sim.keys())\n",
    "d = pd.DataFrame(columns=columns)\n",
    "for i in range(190):\n",
    "    d.loc[i] = 0.0\n",
    "for card in sim:\n",
    "    for deck,freq in sim[card]:\n",
    "        d.loc[deck][card]=freq\n",
    "        \n",
    "corr = d.corr()\n",
    "for index, row in corr.iterrows():\n",
    "    for i,r in enumerate(row):\n",
    "        try:\n",
    "            int(r)\n",
    "        except:\n",
    "            row[i]=-1\n",
    "corrSide=corr"
   ]
  },
  {
   "cell_type": "code",
   "execution_count": 19,
   "metadata": {},
   "outputs": [],
   "source": [
    "sim=simMain\n",
    "columns=list(sim.keys())\n",
    "d = pd.DataFrame(columns=columns)\n",
    "for i in range(190):\n",
    "    d.loc[i] = 0.0\n",
    "for card in sim:\n",
    "    for deck,freq in sim[card]:\n",
    "        d.loc[deck][card]=freq\n",
    "        \n",
    "corr = d.corr()\n",
    "for index, row in corr.iterrows():\n",
    "    for i,r in enumerate(row):\n",
    "        try:\n",
    "            int(r)\n",
    "        except:\n",
    "            row[i]=-1\n",
    "corrSide=corr"
   ]
  },
  {
   "cell_type": "code",
   "execution_count": 13,
   "metadata": {},
   "outputs": [],
   "source": [
    "Permanent = [\"Creature\", \"Enchantment\", \"Artifact\", \"Planeswalker\",\"Land\"]\n",
    "NLPerm = Permanent[0:3]\n",
    "Decksize = 60\n",
    "\n",
    "\n",
    "def meetsCRestrictions(Companions: list, Card, Decklist: list) -> bool:\n",
    "    for i in Companions:\n",
    "        if i == \"Lurrus of the Dream-Den\" and (Card.types in NLPerm) and Card.CMC > 2:\n",
    "            return False\n",
    "        if i == \"Keruga, the Macrosage\" and Card.types !=\"Land\" and Card.CMC < 3:\n",
    "            return False\n",
    "        if i == \"Jegantha, the Wellspring\" and len(Card.manaCost) != len(set(Card.manaCost)):\n",
    "            return False\n",
    "        if i == \"Obosh, the Preypiercer\" and Card.types !=\"Land\" and Card.CMC % 2 == 0:\n",
    "            return False\n",
    "        if i == \"Gyruda, Doom of Depths\" and Card.types !=\"Land\" and Card.CMC % 2 == 0:\n",
    "            return False\n",
    "        if i == \"Umori, the Collector\":\n",
    "            CardType = None\n",
    "            for x in Decklist:\n",
    "                if CardType == None:\n",
    "                    CardType = x.types\n",
    "                elif CardType == \"Land\":\n",
    "                    CardType = x.types\n",
    "                else:\n",
    "                    if x.types != \"Land\" and x.types != CardType:\n",
    "                        return False\n",
    "        if i == \"Lutri, the Spellchaser\":\n",
    "            if len(set(Decklist)) != len(Decklist):\n",
    "                return False\n",
    "            if Card in Decklist:\n",
    "                return False\n",
    "        if i == \"Kaheera, the Orphaguard\" and Card.types == \"Creature\" and (Card.subtype != \"cat\" or Card.subtype != \"elemental\" or Card.subtype != \"Nightmare\" or Card.subtype != \"Dinosaur\" or Card.subtype != \"beast\"):\n",
    "            return False\n",
    "        if i == \"Yorion, Sky Nomad\":\n",
    "            Decksize = 80\n",
    "    return True"
   ]
  },
  {
   "cell_type": "code",
   "execution_count": 15,
   "metadata": {},
   "outputs": [],
   "source": [
    "sampleDecklist = {}\n",
    "sampleDecklist[\"LANDS\"] = []\n",
    "sampleDecklist[\"CREATURES\"] = [\"4 Monastery Swiftspear\", \"2 Magus of the Moon\", \"4 Goblin Guide\"]\n",
    "sampleDecklist[\"INSTANTS and SORC.\"] = [\"4 Lightning Bolt\", \"4 Boros Charm\"]\n",
    "sampleDecklist[\"SIDEBOARD\"] = [\"1 Lurrus of the Dream-Den\"]"
   ]
  },
  {
   "cell_type": "code",
   "execution_count": 17,
   "metadata": {},
   "outputs": [
    {
     "ename": "SyntaxError",
     "evalue": "unexpected EOF while parsing (<ipython-input-17-55d7f7b86d28>, line 2)",
     "output_type": "error",
     "traceback": [
      "\u001b[1;36m  File \u001b[1;32m\"<ipython-input-17-55d7f7b86d28>\"\u001b[1;36m, line \u001b[1;32m2\u001b[0m\n\u001b[1;33m    \u001b[0m\n\u001b[1;37m    ^\u001b[0m\n\u001b[1;31mSyntaxError\u001b[0m\u001b[1;31m:\u001b[0m unexpected EOF while parsing\n"
     ]
    }
   ],
   "source": [
    "from Copy import copy\n",
    "def GetRecommended(Data: pd.DataFrame(), IncDeck: dict) -> dict:\n",
    "    recommendationDeck = pd.Series()\n",
    "    mainDeck = copy.deepcopy(IncDeck)\n",
    "    currSize = 0\n",
    "    if 'SIDEBOARD' in IncDeck.keys():\n",
    "        del mainDeck['SIDEBOARD']\n",
    "        sideDeck = IncDeck['SIDEBOARD']\n",
    "        for x in sideDeck:\n",
    "            x = x.split()[1]\n",
    "            potentialCard = cards[cards['name']==x]\n",
    "    for i in mainDeck.values():\n",
    "        nameVal = i.split()\n",
    "        CurrSize += nameVal[0]\n",
    "    print(\"Current Deck Size: \" + str(CurrSize))\n",
    "    while CurrSize < Decksize:\n",
    "        "
   ]
  },
  {
   "cell_type": "code",
   "execution_count": null,
   "metadata": {},
   "outputs": [],
   "source": []
  }
 ],
 "metadata": {
  "kernelspec": {
   "display_name": "Python 3",
   "language": "python",
   "name": "python3"
  },
  "language_info": {
   "codemirror_mode": {
    "name": "ipython",
    "version": 3
   },
   "file_extension": ".py",
   "mimetype": "text/x-python",
   "name": "python",
   "nbconvert_exporter": "python",
   "pygments_lexer": "ipython3",
   "version": "3.7.3"
  }
 },
 "nbformat": 4,
 "nbformat_minor": 4
}
