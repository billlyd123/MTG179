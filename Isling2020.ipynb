{
 "cells": [
  {
   "cell_type": "code",
   "execution_count": 218,
   "metadata": {},
   "outputs": [],
   "source": [
    "import pandas as pd\n",
    "import ast\n",
    "import pyGM as gm\n",
    "import numpy as np\n",
    "import math"
   ]
  },
  {
   "cell_type": "code",
   "execution_count": 219,
   "metadata": {},
   "outputs": [],
   "source": [
    "#upload card db\n",
    "cards = pd.read_csv('data/cards.csv')"
   ]
  },
  {
   "cell_type": "code",
   "execution_count": 220,
   "metadata": {},
   "outputs": [],
   "source": [
    "# add converted mana cost as well as make all values not strings\n",
    "cards['CMC'] = cards['manaCost'].apply(lambda x: ''.join(''.join(str(x).split('{')).split('}')))\n",
    "for col in cards:\n",
    "    try:\n",
    "        cards[col] = cards[col].apply(lambda x: ast.literal_eval(x))\n",
    "    except:\n",
    "        pass\n",
    "for index, row in cards.iterrows():\n",
    "    X = row['CMC']\n",
    "    list(X)\n",
    "    x_ = 0\n",
    "    for x in X:\n",
    "        try:\n",
    "            x_+=int(x)\n",
    "        except:\n",
    "            x_+=1\n",
    "    row['CMC']=x_"
   ]
  },
  {
   "cell_type": "code",
   "execution_count": 221,
   "metadata": {},
   "outputs": [],
   "source": [
    "# only keep modern legal cards and drop non useful cols\n",
    "legal = []\n",
    "for index, row in cards.iterrows():\n",
    "    if 'modern' in row['legalities']:\n",
    "        if row['legalities']['modern']=='Legal':\n",
    "            legal.append(True)\n",
    "        else:\n",
    "            legal.append(False)\n",
    "    else:\n",
    "        legal.append(False)\n",
    "cards = cards[legal]\n",
    "cards.drop(columns=['legalities','Unnamed: 0','leadershipSkills','power','toughness','loyalty','uuid'],inplace=True)"
   ]
  },
  {
   "cell_type": "code",
   "execution_count": 222,
   "metadata": {},
   "outputs": [],
   "source": [
    "#upload decklists\n",
    "decks = dict()\n",
    "decks['modern2018'] = pd.read_csv('data/deckListmodernMetaDecks2018.csv')\n",
    "decks['modern2019'] = pd.read_csv('data/deckListmodernMetaDecks2019.csv')\n",
    "decks['modern2020'] = pd.read_csv('data/deckListmodernMetaDecks2020.csv')\n"
   ]
  },
  {
   "cell_type": "code",
   "execution_count": 223,
   "metadata": {},
   "outputs": [
    {
     "name": "stdout",
     "output_type": "stream",
     "text": [
      "28    [{'LANDS': ['2 Breeding Pool', '3 Field of Rui...\n",
      "Name: 3, dtype: object modern2020\n",
      "47    [{'LANDS': ['1 Breeding Pool', '2 Celestial Co...\n",
      "Name: 3, dtype: object modern2019\n",
      "Series([], Name: 3, dtype: object) modern2018\n"
     ]
    }
   ],
   "source": [
    "#select only one archetype from decklists\n",
    "decklists = dict()\n",
    "decklists['modern2020'] = decks['modern2020'][decks['modern2020']['1']=='Bant Control']['3']\n",
    "decklists['modern2019'] = decks['modern2019'][decks['modern2019']['1']=='Bant Control']['3']\n",
    "decklists['modern2018'] = decks['modern2018'][decks['modern2018']['1']=='Bant Control']['3']\n",
    "for d in decklists:\n",
    "    print(decklists[d],d)\n",
    "    \n",
    "decklists['modern2020'] = decklists['modern2020'].to_dict()[28]\n",
    "decklists['modern2020'] = ast.literal_eval(decklists['modern2020'])\n",
    "decklists['modern2019'] = decklists['modern2019'].to_dict()[47]\n",
    "decklists['modern2019'] = ast.literal_eval(decklists['modern2019'])\n"
   ]
  },
  {
   "cell_type": "code",
   "execution_count": 224,
   "metadata": {},
   "outputs": [],
   "source": [
    "x = len(decklists['modern2018'])\n",
    "y = len(decklists['modern2019'])\n",
    "z = len(decklists['modern2020'])"
   ]
  },
  {
   "cell_type": "code",
   "execution_count": 225,
   "metadata": {},
   "outputs": [],
   "source": [
    "#Generate dataframes with card frequencies for all years for main and side\n",
    "simMain = dict()\n",
    "simSide = dict()\n",
    "for D in decklists:\n",
    "    for i,deck in enumerate(decklists[D]):\n",
    "        for ty in deck:\n",
    "            if ty=='SIDEBOARD':\n",
    "                sim=simSide\n",
    "            else:\n",
    "                sim=simMain\n",
    "            for card in deck[ty]:\n",
    "                card = card.split(' ')\n",
    "                freq = card[0]\n",
    "                name = ' '.join(card[1:])\n",
    "                if name not in sim:\n",
    "                    sim[name] = list()\n",
    "                    if D=='modern2020':\n",
    "                        i_ = i+x+y\n",
    "                    if D=='modern2019':\n",
    "                        i_ = i+x\n",
    "                    if D=='modern2018':\n",
    "                        i_ = i\n",
    "                    sim[name].append([i_,int(freq)])\n",
    "                else:\n",
    "                    isIn = False\n",
    "                    for i_,freq_ in sim[name]:\n",
    "                        if i_==i:\n",
    "                            isIn=True\n",
    "                            freq_+=int(freq)\n",
    "                    if isIn==False:\n",
    "                        sim[name].append([i,int(freq)])\n",
    "                        \n",
    "                        \n",
    "sim=simSide\n",
    "columns=list(sim.keys())\n",
    "d = pd.DataFrame(columns=columns)\n",
    "for i in range(x+y+z):\n",
    "    d.loc[i] = 0.0\n",
    "for card in sim:\n",
    "    for deck,freq in sim[card]:\n",
    "        d.loc[deck][card]=freq\n",
    "        \n",
    "corr = d.corr()\n",
    "for index, row in corr.iterrows():\n",
    "    for i,r in enumerate(row):\n",
    "        try:\n",
    "            int(r)\n",
    "        except:\n",
    "            row[i]=-1\n",
    "corrSide=corr\n",
    "dSide = d\n",
    "\n",
    "sim=simMain\n",
    "columns=list(sim.keys())\n",
    "d = pd.DataFrame(columns=columns)\n",
    "for i in range(x+y+z):\n",
    "    d.loc[i] = 0.0\n",
    "for card in sim:\n",
    "    for deck,freq in sim[card]:\n",
    "        d.loc[deck][card]=freq\n",
    "        \n",
    "corr = d.corr()\n",
    "for index, row in corr.iterrows():\n",
    "    for i,r in enumerate(row):\n",
    "        try:\n",
    "            int(r)\n",
    "        except:\n",
    "            row[i]=-1\n",
    "\n",
    "            corrMain = corr\n",
    "dMain = d"
   ]
  },
  {
   "cell_type": "code",
   "execution_count": 227,
   "metadata": {},
   "outputs": [],
   "source": [
    "#select multiple potential cards and impute those values\n",
    "#https://towardsdatascience.com/preprocessing-regression-imputation-of-missing-continuous-values-f612179bafb4\n",
    "import pandas as pd\n",
    "import numpy as np\n",
    "# explicitly require this experimental feature\n",
    "from sklearn.experimental import enable_iterative_imputer\n",
    "# now you can import normally from sklearn.impute\n",
    "from sklearn.impute import IterativeImputer\n",
    "from sklearn.ensemble import ExtraTreesRegressor\n",
    "from sklearn.linear_model import BayesianRidge\n",
    "import random\n",
    "# impute_data = pd.DataFrame(imputer.fit_transform(full_data))\n",
    "x_ = len(dMain)\n",
    "dMain.loc[x_] = None\n",
    "for i in range(len(dMain.columns)):\n",
    "    dMain.loc[x_][i] = np.nan\n",
    "\n",
    "dMain.loc[x_][0] = 4\n",
    "dMain.loc[x_][1] = 2\n",
    "dMain.loc[x_][9] = 4"
   ]
  },
  {
   "cell_type": "code",
   "execution_count": 228,
   "metadata": {},
   "outputs": [
    {
     "name": "stderr",
     "output_type": "stream",
     "text": [
      "C:\\Users\\joey\\anaconda3\\lib\\site-packages\\sklearn\\impute\\_iterative.py:603: ConvergenceWarning: [IterativeImputer] Early stopping criterion not reached.\n",
      "  \" reached.\", ConvergenceWarning)\n",
      "C:\\Users\\joey\\anaconda3\\lib\\site-packages\\sklearn\\impute\\_iterative.py:603: ConvergenceWarning: [IterativeImputer] Early stopping criterion not reached.\n",
      "  \" reached.\", ConvergenceWarning)\n",
      "C:\\Users\\joey\\anaconda3\\lib\\site-packages\\sklearn\\impute\\_iterative.py:603: ConvergenceWarning: [IterativeImputer] Early stopping criterion not reached.\n",
      "  \" reached.\", ConvergenceWarning)\n",
      "C:\\Users\\joey\\anaconda3\\lib\\site-packages\\sklearn\\impute\\_iterative.py:603: ConvergenceWarning: [IterativeImputer] Early stopping criterion not reached.\n",
      "  \" reached.\", ConvergenceWarning)\n"
     ]
    }
   ],
   "source": [
    "#Impute cards whose frequencies are 4 then 3 then 2 then 1\n",
    "for i in range(3,-1,-1):\n",
    "    imputer = IterativeImputer(BayesianRidge())\n",
    "    impMain = pd.DataFrame(imputer.fit_transform(dMain.values),columns = dMain.columns)\n",
    "    for card in impMain:\n",
    "        impMain[card] = impMain[card].apply(lambda x: math.ceil(x))\n",
    "    deck = impMain.loc[x_]\n",
    "    decks = [(int(x),y) for x,y in zip(list(deck),dMain.columns) if x > i]\n",
    "    for i,card in enumerate(dMain.columns):\n",
    "        for freq, sugCard in decks:\n",
    "            if sugCard==card:\n",
    "                dMain.loc[x_][i] = freq"
   ]
  },
  {
   "cell_type": "code",
   "execution_count": 229,
   "metadata": {},
   "outputs": [
    {
     "name": "stderr",
     "output_type": "stream",
     "text": [
      "C:\\Users\\joey\\anaconda3\\lib\\site-packages\\ipykernel_launcher.py:5: DeprecationWarning: The default dtype for empty Series will be 'object' instead of 'float64' in a future version. Specify a dtype explicitly to silence this warning.\n",
      "  \"\"\"\n"
     ]
    }
   ],
   "source": [
    "Decksize = 60\n",
    "#For a given partial decklist, check if the addition of a new card\n",
    "# satisfies the restrictions placed upon the deck by specifying a companion(s) for it\n",
    "# and return True if the addition of a new card would not violate the deck restrictions\n",
    "def meetsCRestrictions(Companions: list, Card: pd.Series(), Decklist: list) -> bool:\n",
    "    for i in Companions:\n",
    "        if i == \"Lurrus of the Dream-Den\" and ('Creature' in Card.types.tolist()[0] or 'Enchantment' in Card.types.tolist()[0] or 'Artifact' in Card.types.tolist()[0] or 'Planeswalker' in Card.types.tolist()[0]) and Card.CMC.tolist()[0] > 2:\n",
    "            return False\n",
    "        if i == \"Keruga, the Macrosage\" and 'Land' not in Card.types.tolist()[0] and Card.CMC.tolist()[0] < 3:\n",
    "            return False\n",
    "        if i == \"Jegantha, the Wellspring\" and Card.manaCost.tolist()[0].split('}') != len(set(Card.manaCost.tolist()[0].split('}'))):\n",
    "            return False\n",
    "        if i == \"Obosh, the Preypiercer\" and 'Land' not in Card.types.tolist()[0]  and Card.CMC.tolist()[0] %2 == 0:\n",
    "            return False\n",
    "        if i == \"Gyruda, Doom of Depths\" and 'Land' not in Card.types.tolist()[0]  and Card.CMC.tolist()[0] % 2 == 1:\n",
    "            return False\n",
    "        if i == \"Umori, the Collector\":\n",
    "            CardType = None\n",
    "            for ty in Decklist:\n",
    "                for x in Decklist[ty]:\n",
    "                    name = ' '.join(x.split()[1:])\n",
    "                    x = cards[cards['name']==name]\n",
    "                    if CardType == None:\n",
    "                        CardType = x.types.tolist()[0]\n",
    "                    elif 'Land' in CardType:\n",
    "                        CardType = x.types.tolist()[0]\n",
    "                    elif len(x.types.tolist()[0])>1 and 'Land' not in x.types.tolist()[0]:\n",
    "                        return False\n",
    "                    else:\n",
    "                        if x.types.tolist()[0] != [\"Land\"] and x.types.tolist()[0] not in CardType:\n",
    "                            return False\n",
    "        if i == \"Lutri, the Spellchaser\":\n",
    "            for ty in Decklist:\n",
    "                for x in Decklist[ty]:\n",
    "                    freq = int(x.split()[0])\n",
    "                    name  = ' '.join(x.split()[1:])\n",
    "                    if (freq >1 and ty!='LANDS') or name==Card.name.tolist()[0]:\n",
    "                        return False\n",
    "\n",
    "        if i == \"Kaheera, the Orphaguard\" and 'Creature' in Card.types.tolist()[0]  and (\"Cat\" not in Card.subtypes.tolist()[0]  or \"Elemental\" not in Card.subtypes.tolist()[0] or \"Nightmare\" not in Card.subtypes.tolist()[0] or \"Dinosaur\" not in Card.subtypes.tolist()[0] or \"Beast\" not in Card.subtypes.tolist()[0]):\n",
    "            return False\n",
    "        if i == \"Yorion, Sky Nomad\":\n",
    "            Decksize = 80\n",
    "    return True"
   ]
  },
  {
   "cell_type": "code",
   "execution_count": 230,
   "metadata": {},
   "outputs": [
    {
     "data": {
      "text/plain": [
       "True"
      ]
     },
     "execution_count": 230,
     "metadata": {},
     "output_type": "execute_result"
    }
   ],
   "source": [
    "#Sample decklist to check companion restrictions and recommended cards\n",
    "sampleDecklist = {}\n",
    "sampleDecklist[\"LANDS\"] = []\n",
    "sampleDecklist[\"CREATURES\"] = [\"4 Monastery Swiftspear\", \"2 Magus of the Moon\", \"4 Goblin Guide\"]\n",
    "sampleDecklist[\"INSTANTS and SORC.\"] = [\"4 Lightning Bolt\", \"4 Boros Charm\"]\n",
    "sampleDecklist[\"SIDEBOARD\"] = [\"1 Lurrus of the Dream-Den\"]\n",
    "name = 'Lava Axe'\n",
    "comp = \"Kaheera, the Orphaguard\"\n",
    "meetsCRestrictions([comp],cards[cards['name']==name],Decklist=sampleDecklist)\n"
   ]
  },
  {
   "cell_type": "code",
   "execution_count": 231,
   "metadata": {},
   "outputs": [],
   "source": [
    "import copy\n",
    "Companion = []\n",
    "CompanionList = [\"Lurrus of the Dream-Den\",\"Keruga, the Macrosage\", \"Jegantha, the Wellspring\", \"Obosh, the Preypiercer\", \"Gyruda, Doom of Depths\", \n",
    "                 \"Umori, the Collector\", \"Lutri, the Spellchaser\", \"Kaheera, the Orphaguard\", \"Yorion, Sky Nomad\"]\n",
    "def GetRecommended(Data: pd.DataFrame(), IncDeck: dict) -> dict:\n",
    "    recommendationDeck = pd.Series()\n",
    "    mainDeck = copy.deepcopy(IncDeck)\n",
    "    CurrSize = 0\n",
    "    if 'SIDEBOARD' in IncDeck.keys():\n",
    "        del mainDeck['SIDEBOARD']\n",
    "        sideDeck = IncDeck['SIDEBOARD']\n",
    "        for x in sideDeck:\n",
    "            x = ' '.join(x.split()[1:])\n",
    "            potentialCard = cards[cards['name']==x]\n",
    "            if potentialCard.name.tolist()[0] in CompanionList:\n",
    "                Companion.append(potentialCard.name.tolist()[0])\n",
    "    for i in mainDeck.values():\n",
    "        for x in i:\n",
    "            print(x)\n",
    "            nameVal = x.split(\" \")\n",
    "            CurrSize += int(nameVal[0])\n",
    "    print(\"Current Deck Size: \" + str(CurrSize))\n",
    "    if len(Companion) != 0:\n",
    "        print(\"Companion: \" + str(Companion))\n",
    "    while CurrSize < Decksize:\n",
    "        CurrSize +=1"
   ]
  },
  {
   "cell_type": "code",
   "execution_count": 232,
   "metadata": {},
   "outputs": [
    {
     "name": "stdout",
     "output_type": "stream",
     "text": [
      "4 Monastery Swiftspear\n",
      "2 Magus of the Moon\n",
      "4 Goblin Guide\n",
      "4 Lightning Bolt\n",
      "4 Boros Charm\n",
      "Current Deck Size: 18\n",
      "Companion: ['Lurrus of the Dream-Den']\n"
     ]
    },
    {
     "name": "stderr",
     "output_type": "stream",
     "text": [
      "C:\\Users\\joey\\anaconda3\\lib\\site-packages\\ipykernel_launcher.py:6: DeprecationWarning: The default dtype for empty Series will be 'object' instead of 'float64' in a future version. Specify a dtype explicitly to silence this warning.\n",
      "  \n"
     ]
    }
   ],
   "source": [
    "GetRecommended(corrMain, sampleDecklist)"
   ]
  },
  {
   "cell_type": "code",
   "execution_count": null,
   "metadata": {},
   "outputs": [],
   "source": []
  }
 ],
 "metadata": {
  "kernelspec": {
   "display_name": "Python 3",
   "language": "python",
   "name": "python3"
  },
  "language_info": {
   "codemirror_mode": {
    "name": "ipython",
    "version": 3
   },
   "file_extension": ".py",
   "mimetype": "text/x-python",
   "name": "python",
   "nbconvert_exporter": "python",
   "pygments_lexer": "ipython3",
   "version": "3.7.6"
  }
 },
 "nbformat": 4,
 "nbformat_minor": 4
}
