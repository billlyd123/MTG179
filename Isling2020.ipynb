{
 "cells": [
  {
   "cell_type": "code",
   "execution_count": 1,
   "metadata": {},
   "outputs": [],
   "source": [
    "import pandas as pd\n",
    "import ast\n",
    "import pyGM as gm\n",
    "import numpy as np"
   ]
  },
  {
   "cell_type": "code",
   "execution_count": 2,
   "metadata": {},
   "outputs": [],
   "source": [
    "cards = pd.read_csv('data/cards.csv')"
   ]
  },
  {
   "cell_type": "code",
   "execution_count": 3,
   "metadata": {},
   "outputs": [],
   "source": [
    "cards['CMC'] = cards['manaCost'].apply(lambda x: ''.join(''.join(str(x).split('{')).split('}')))\n",
    "for col in cards:\n",
    "    try:\n",
    "        cards[col] = cards[col].apply(lambda x: ast.literal_eval(x))\n",
    "    except:\n",
    "        pass\n",
    "for index, row in cards.iterrows():\n",
    "    X = row['CMC']\n",
    "    list(X)\n",
    "    x_ = 0\n",
    "    for x in X:\n",
    "        try:\n",
    "            x_+=int(x)\n",
    "        except:\n",
    "            x_+=1\n",
    "    row['CMC']=x_"
   ]
  },
  {
   "cell_type": "code",
   "execution_count": 4,
   "metadata": {},
   "outputs": [],
   "source": [
    "legal = []\n",
    "for index, row in cards.iterrows():\n",
    "    if 'modern' in row['legalities']:\n",
    "        if row['legalities']['modern']=='Legal':\n",
    "            legal.append(True)\n",
    "        else:\n",
    "            legal.append(False)\n",
    "    else:\n",
    "        legal.append(False)\n",
    "cards = cards[legal]\n",
    "cards.drop(columns=['legalities','Unnamed: 0','leadershipSkills','power','toughness','loyalty','uuid'],inplace=True)"
   ]
  },
  {
   "cell_type": "code",
   "execution_count": 5,
   "metadata": {},
   "outputs": [
    {
     "data": {
      "text/html": [
       "<div>\n",
       "<style scoped>\n",
       "    .dataframe tbody tr th:only-of-type {\n",
       "        vertical-align: middle;\n",
       "    }\n",
       "\n",
       "    .dataframe tbody tr th {\n",
       "        vertical-align: top;\n",
       "    }\n",
       "\n",
       "    .dataframe thead th {\n",
       "        text-align: right;\n",
       "    }\n",
       "</style>\n",
       "<table border=\"1\" class=\"dataframe\">\n",
       "  <thead>\n",
       "    <tr style=\"text-align: right;\">\n",
       "      <th></th>\n",
       "      <th>colors</th>\n",
       "      <th>manaCost</th>\n",
       "      <th>name</th>\n",
       "      <th>subtypes</th>\n",
       "      <th>supertypes</th>\n",
       "      <th>text</th>\n",
       "      <th>type</th>\n",
       "      <th>types</th>\n",
       "      <th>hasNoDeckLimit</th>\n",
       "      <th>CMC</th>\n",
       "    </tr>\n",
       "  </thead>\n",
       "  <tbody>\n",
       "    <tr>\n",
       "      <th>8</th>\n",
       "      <td>[R]</td>\n",
       "      <td>{2}{R}</td>\n",
       "      <td>Abandon Reason</td>\n",
       "      <td>[]</td>\n",
       "      <td>[]</td>\n",
       "      <td>[discard, discard, cast, madness]</td>\n",
       "      <td>Instant</td>\n",
       "      <td>[Instant]</td>\n",
       "      <td>NaN</td>\n",
       "      <td>3</td>\n",
       "    </tr>\n",
       "    <tr>\n",
       "      <th>10</th>\n",
       "      <td>[]</td>\n",
       "      <td>{3}</td>\n",
       "      <td>Abandoned Sarcophagus</td>\n",
       "      <td>[]</td>\n",
       "      <td>[]</td>\n",
       "      <td>[cast, cycling, cycling, exile]</td>\n",
       "      <td>Artifact</td>\n",
       "      <td>[Artifact]</td>\n",
       "      <td>NaN</td>\n",
       "      <td>3</td>\n",
       "    </tr>\n",
       "    <tr>\n",
       "      <th>11</th>\n",
       "      <td>[B]</td>\n",
       "      <td>{3}{B}</td>\n",
       "      <td>Abattoir Ghoul</td>\n",
       "      <td>[Zombie]</td>\n",
       "      <td>[]</td>\n",
       "      <td>[creature]</td>\n",
       "      <td>Creature — Zombie</td>\n",
       "      <td>[Creature]</td>\n",
       "      <td>NaN</td>\n",
       "      <td>4</td>\n",
       "    </tr>\n",
       "    <tr>\n",
       "      <th>13</th>\n",
       "      <td>[W]</td>\n",
       "      <td>{3}{W}</td>\n",
       "      <td>Abbey Griffin</td>\n",
       "      <td>[Griffin]</td>\n",
       "      <td>[]</td>\n",
       "      <td>[vigilance]</td>\n",
       "      <td>Creature — Griffin</td>\n",
       "      <td>[Creature]</td>\n",
       "      <td>NaN</td>\n",
       "      <td>4</td>\n",
       "    </tr>\n",
       "    <tr>\n",
       "      <th>15</th>\n",
       "      <td>[R]</td>\n",
       "      <td>{1}{R}</td>\n",
       "      <td>Abbot of Keral Keep</td>\n",
       "      <td>[Human, Monk]</td>\n",
       "      <td>[]</td>\n",
       "      <td>[cast, creature, exile, play]</td>\n",
       "      <td>Creature — Human Monk</td>\n",
       "      <td>[Creature]</td>\n",
       "      <td>NaN</td>\n",
       "      <td>2</td>\n",
       "    </tr>\n",
       "  </tbody>\n",
       "</table>\n",
       "</div>"
      ],
      "text/plain": [
       "   colors manaCost                   name       subtypes supertypes  \\\n",
       "8     [R]   {2}{R}         Abandon Reason             []         []   \n",
       "10     []      {3}  Abandoned Sarcophagus             []         []   \n",
       "11    [B]   {3}{B}         Abattoir Ghoul       [Zombie]         []   \n",
       "13    [W]   {3}{W}          Abbey Griffin      [Griffin]         []   \n",
       "15    [R]   {1}{R}    Abbot of Keral Keep  [Human, Monk]         []   \n",
       "\n",
       "                                 text                   type       types  \\\n",
       "8   [discard, discard, cast, madness]                Instant   [Instant]   \n",
       "10    [cast, cycling, cycling, exile]               Artifact  [Artifact]   \n",
       "11                         [creature]      Creature — Zombie  [Creature]   \n",
       "13                        [vigilance]     Creature — Griffin  [Creature]   \n",
       "15      [cast, creature, exile, play]  Creature — Human Monk  [Creature]   \n",
       "\n",
       "   hasNoDeckLimit CMC  \n",
       "8             NaN   3  \n",
       "10            NaN   3  \n",
       "11            NaN   4  \n",
       "13            NaN   4  \n",
       "15            NaN   2  "
      ]
     },
     "execution_count": 5,
     "metadata": {},
     "output_type": "execute_result"
    }
   ],
   "source": [
    "cards.head()"
   ]
  },
  {
   "cell_type": "code",
   "execution_count": 6,
   "metadata": {},
   "outputs": [],
   "source": [
    "decks = dict()\n",
    "decks['modern2018'] = pd.read_csv('data/deckListmodernMetaDecks2018.csv')\n",
    "decks['modern2019'] = pd.read_csv('data/deckListmodernMetaDecks2019.csv')\n",
    "decks['modern2020'] = pd.read_csv('data/deckListmodernMetaDecks2020.csv')\n"
   ]
  },
  {
   "cell_type": "code",
   "execution_count": 7,
   "metadata": {},
   "outputs": [],
   "source": [
    "decklists = dict()\n",
    "decklists['modern2020'] = decks['modern2020'][decks['modern2020']['1']=='Red Deck Wins']['3']\n",
    "decklists['modern2019'] = decks['modern2019'][decks['modern2019']['1']=='Red Deck Wins']['3']\n",
    "decklists['modern2018'] = decks['modern2018'][decks['modern2018']['1']=='Red Deck Wins']['3']\n"
   ]
  },
  {
   "cell_type": "code",
   "execution_count": 8,
   "metadata": {},
   "outputs": [],
   "source": [
    "decklists['modern2020'] = decklists['modern2020'].to_dict()[0]\n",
    "decklists['modern2020'] = ast.literal_eval(decklists['modern2020'])\n",
    "decklists['modern2019'] = decklists['modern2019'].to_dict()[0]\n",
    "decklists['modern2019'] = ast.literal_eval(decklists['modern2019'])\n",
    "decklists['modern2018'] = decklists['modern2018'].to_dict()[1]\n",
    "decklists['modern2018'] = ast.literal_eval(decklists['modern2018'])"
   ]
  },
  {
   "cell_type": "code",
   "execution_count": 9,
   "metadata": {},
   "outputs": [],
   "source": [
    "simMain = dict()\n",
    "simSide = dict()\n",
    "for D in decklists:\n",
    "    for i,deck in enumerate(decklists[D]):\n",
    "        for ty in deck:\n",
    "            if ty=='SIDEBOARD':\n",
    "                sim=simSide\n",
    "            else:\n",
    "                sim=simMain\n",
    "            for card in deck[ty]:\n",
    "                card = card.split(' ')\n",
    "                freq = card[0]\n",
    "                name = ' '.join(card[1:])\n",
    "                if name not in sim:\n",
    "                    sim[name] = list()\n",
    "                    if D=='modern2020':\n",
    "                        i_ = i+60+80\n",
    "                    if D=='modern2019':\n",
    "                        i_ = i+80\n",
    "                    if D=='modern2018':\n",
    "                        i_ = i\n",
    "                    sim[name].append([i_,int(freq)])\n",
    "                else:\n",
    "                    isIn = False\n",
    "                    for i_,freq_ in sim[name]:\n",
    "                        if i_==i:\n",
    "                            isIn=True\n",
    "                            freq_+=int(freq)\n",
    "                    if isIn==False:\n",
    "                        sim[name].append([i,int(freq)])"
   ]
  },
  {
   "cell_type": "code",
   "execution_count": 10,
   "metadata": {},
   "outputs": [],
   "source": [
    "sim=simSide\n",
    "columns=list(sim.keys())\n",
    "d = pd.DataFrame(columns=columns)\n",
    "for i in range(190+80+60):\n",
    "    d.loc[i] = 0.0\n",
    "for card in sim:\n",
    "    for deck,freq in sim[card]:\n",
    "        d.loc[deck][card]=freq\n",
    "        \n",
    "corr = d.corr()\n",
    "for index, row in corr.iterrows():\n",
    "    for i,r in enumerate(row):\n",
    "        try:\n",
    "            int(r)\n",
    "        except:\n",
    "            row[i]=-1\n",
    "corrSide=corr\n",
    "dSide = d"
   ]
  },
  {
   "cell_type": "code",
   "execution_count": 11,
   "metadata": {},
   "outputs": [],
   "source": [
    "sim=simMain\n",
    "columns=list(sim.keys())\n",
    "d = pd.DataFrame(columns=columns)\n",
    "for i in range(190+80+60):\n",
    "    d.loc[i] = 0.0\n",
    "for card in sim:\n",
    "    for deck,freq in sim[card]:\n",
    "        d.loc[deck][card]=freq\n",
    "        \n",
    "corr = d.corr()\n",
    "for index, row in corr.iterrows():\n",
    "    for i,r in enumerate(row):\n",
    "        try:\n",
    "            int(r)\n",
    "        except:\n",
    "            row[i]=-1\n",
    "corrMain = corr\n",
    "dMain = d"
   ]
  },
  {
   "cell_type": "code",
   "execution_count": 12,
   "metadata": {},
   "outputs": [
    {
     "name": "stderr",
     "output_type": "stream",
     "text": [
      "C:\\Users\\joey\\anaconda3\\lib\\site-packages\\ipykernel_launcher.py:5: DeprecationWarning: The default dtype for empty Series will be 'object' instead of 'float64' in a future version. Specify a dtype explicitly to silence this warning.\n",
      "  \"\"\"\n"
     ]
    }
   ],
   "source": [
    "Decksize = 60\n",
    "#For a given partial decklist, check if the addition of a new card\n",
    "# satisfies the restrictions placed upon the deck by specifying a companion(s) for it\n",
    "# and return True if the addition of a new card would not violate the deck restrictions\n",
    "def meetsCRestrictions(Companions: list, Card: pd.Series(), Decklist: list) -> bool:\n",
    "    for i in Companions:\n",
    "        if i == \"Lurrus of the Dream-Den\" and ('Creature' in Card.types.tolist()[0] or 'Enchantment' in Card.types.tolist()[0] or 'Artifact' in Card.types.tolist()[0] or 'Planeswalker' in Card.types.tolist()[0]) and Card.CMC.tolist()[0] > 2:\n",
    "            return False\n",
    "        if i == \"Keruga, the Macrosage\" and 'Land' not in Card.types.tolist()[0] and Card.CMC.tolist()[0] < 3:\n",
    "            return False\n",
    "        if i == \"Jegantha, the Wellspring\" and Card.manaCost.tolist()[0].split('}') != len(set(Card.manaCost.tolist()[0].split('}'))):\n",
    "            return False\n",
    "        if i == \"Obosh, the Preypiercer\" and 'Land' not in Card.types.tolist()[0]  and Card.CMC.tolist()[0] %2 == 0:\n",
    "            return False\n",
    "        if i == \"Gyruda, Doom of Depths\" and 'Land' not in Card.types.tolist()[0]  and Card.CMC.tolist()[0] % 2 == 1:\n",
    "            return False\n",
    "        if i == \"Umori, the Collector\":\n",
    "            CardType = None\n",
    "            for ty in Decklist:\n",
    "                for x in Decklist[ty]:\n",
    "                    name = ' '.join(x.split()[1:])\n",
    "                    x = cards[cards['name']==name]\n",
    "                    if CardType == None:\n",
    "                        CardType = x.types.tolist()[0]\n",
    "                    elif 'Land' in CardType:\n",
    "                        CardType = x.types.tolist()[0]\n",
    "                    elif len(x.types.tolist()[0])>1 and 'Land' not in x.types.tolist()[0]:\n",
    "                        return False\n",
    "                    else:\n",
    "                        if x.types.tolist()[0] != [\"Land\"] and x.types.tolist()[0] not in CardType:\n",
    "                            return False\n",
    "        if i == \"Lutri, the Spellchaser\":\n",
    "            for ty in Decklist:\n",
    "                for x in Decklist[ty]:\n",
    "                    freq = int(x.split()[0])\n",
    "                    name  = ' '.join(x.split()[1:])\n",
    "                    if (freq >1 and ty!='LANDS') or name==Card.name.tolist()[0]:\n",
    "                        return False\n",
    "\n",
    "        if i == \"Kaheera, the Orphaguard\" and 'Creature' in Card.types.tolist()[0]  and (\"Cat\" not in Card.subtypes.tolist()[0]  or \"Elemental\" not in Card.subtypes.tolist()[0] or \"Nightmare\" not in Card.subtypes.tolist()[0] or \"Dinosaur\" not in Card.subtypes.tolist()[0] or \"Beast\" not in Card.subtypes.tolist()[0]):\n",
    "            return False\n",
    "        if i == \"Yorion, Sky Nomad\":\n",
    "            Decksize = 80\n",
    "    return True"
   ]
  },
  {
   "cell_type": "code",
   "execution_count": 13,
   "metadata": {},
   "outputs": [
    {
     "data": {
      "text/plain": [
       "True"
      ]
     },
     "execution_count": 13,
     "metadata": {},
     "output_type": "execute_result"
    }
   ],
   "source": [
    "sampleDecklist = {}\n",
    "sampleDecklist[\"LANDS\"] = []\n",
    "sampleDecklist[\"CREATURES\"] = [\"4 Monastery Swiftspear\", \"2 Magus of the Moon\", \"4 Goblin Guide\"]\n",
    "sampleDecklist[\"INSTANTS and SORC.\"] = [\"4 Lightning Bolt\", \"4 Boros Charm\"]\n",
    "# sampleDecklist[\"SIDEBOARD\"] = [\"1 Lurrus of the Dream-Den\"]\n",
    "name = 'Lava Axe'\n",
    "comp = \"Kaheera, the Orphaguard\"\n",
    "meetsCRestrictions([comp],cards[cards['name']==name],Decklist=sampleDecklist)\n"
   ]
  },
  {
   "cell_type": "code",
   "execution_count": 14,
   "metadata": {},
   "outputs": [
    {
     "ename": "SyntaxError",
     "evalue": "unexpected EOF while parsing (<ipython-input-14-4f6b8f4e10c7>, line 17)",
     "output_type": "error",
     "traceback": [
      "\u001b[1;36m  File \u001b[1;32m\"<ipython-input-14-4f6b8f4e10c7>\"\u001b[1;36m, line \u001b[1;32m17\u001b[0m\n\u001b[1;33m    \u001b[0m\n\u001b[1;37m    ^\u001b[0m\n\u001b[1;31mSyntaxError\u001b[0m\u001b[1;31m:\u001b[0m unexpected EOF while parsing\n"
     ]
    }
   ],
   "source": [
    "from Copy import copy\n",
    "def GetRecommended(Data: pd.DataFrame(), IncDeck: dict) -> dict:\n",
    "    recommendationDeck = pd.Series()\n",
    "    mainDeck = copy.deepcopy(IncDeck)\n",
    "    currSize = 0\n",
    "    if 'SIDEBOARD' in IncDeck.keys():\n",
    "        del mainDeck['SIDEBOARD']\n",
    "        sideDeck = IncDeck['SIDEBOARD']\n",
    "        for x in sideDeck:\n",
    "            x = ' '.join(x.split()[1:])\n",
    "            potentialCard = cards[cards['name']==x]\n",
    "    for i in mainDeck.values():\n",
    "        nameVal = i.split()\n",
    "        CurrSize += nameVal[0]\n",
    "    print(\"Current Deck Size: \" + str(CurrSize))\n",
    "    while CurrSize < Decksize:\n",
    "        "
   ]
  },
  {
   "cell_type": "code",
   "execution_count": null,
   "metadata": {},
   "outputs": [],
   "source": []
  }
 ],
 "metadata": {
  "kernelspec": {
   "display_name": "Python 3",
   "language": "python",
   "name": "python3"
  },
  "language_info": {
   "codemirror_mode": {
    "name": "ipython",
    "version": 3
   },
   "file_extension": ".py",
   "mimetype": "text/x-python",
   "name": "python",
   "nbconvert_exporter": "python",
   "pygments_lexer": "ipython3",
   "version": "3.7.6"
  }
 },
 "nbformat": 4,
 "nbformat_minor": 4
}
