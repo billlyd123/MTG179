{
 "cells": [
  {
   "cell_type": "code",
   "execution_count": 124,
   "metadata": {},
   "outputs": [],
   "source": [
    "import pandas as pd\n",
    "import ast\n",
    "import pyGM as gm\n",
    "import numpy as np"
   ]
  },
  {
   "cell_type": "code",
   "execution_count": 125,
   "metadata": {},
   "outputs": [],
   "source": [
    "cards = pd.read_csv('data/cards.csv')"
   ]
  },
  {
   "cell_type": "code",
   "execution_count": 126,
   "metadata": {},
   "outputs": [],
   "source": [
    "cards['cmc'] = cards['manaCost'].apply(lambda x: ''.join(''.join(str(x).split('{')).split('}')))\n",
    "for index, row in cards.iterrows():\n",
    "    X = row['cmc']\n",
    "    list(X)\n",
    "    x_ = 0\n",
    "    for x in X:\n",
    "        try:\n",
    "            x_+=int(x)\n",
    "        except:\n",
    "            x_+=1\n",
    "    row['cmc']=x_"
   ]
  },
  {
   "cell_type": "code",
   "execution_count": 128,
   "metadata": {},
   "outputs": [],
   "source": [
    "decks = dict()\n",
    "decks['modern2018'] = pd.read_csv('data/deckListmodernMetaDecks2018.csv')\n",
    "decks['modern2019'] = pd.read_csv('data/deckListmodernMetaDecks2019.csv')\n",
    "decks['modern2020'] = pd.read_csv('data/deckListmodernMetaDecks2020.csv')\n"
   ]
  },
  {
   "cell_type": "code",
   "execution_count": 129,
   "metadata": {},
   "outputs": [],
   "source": [
    "decklists = dict()\n",
    "decklists['modern2020'] = decks['modern2020'][decks['modern2020']['1']=='Red Deck Wins']['3']\n",
    "decklists['modern2019'] = decks['modern2019'][decks['modern2019']['1']=='Red Deck Wins']['3']\n",
    "decklists['modern2018'] = decks['modern2018'][decks['modern2018']['1']=='Red Deck Wins']['3']\n"
   ]
  },
  {
   "cell_type": "code",
   "execution_count": 130,
   "metadata": {},
   "outputs": [],
   "source": [
    "decklists['modern2020'] = decklists['modern2020'].to_dict()[0]\n",
    "decklists['modern2020'] = ast.literal_eval(decklists['modern2020'])\n",
    "decklists['modern2019'] = decklists['modern2019'].to_dict()[0]\n",
    "decklists['modern2019'] = ast.literal_eval(decklists['modern2019'])\n",
    "decklists['modern2018'] = decklists['modern2018'].to_dict()[1]\n",
    "decklists['modern2018'] = ast.literal_eval(decklists['modern2018'])"
   ]
  },
  {
   "cell_type": "code",
   "execution_count": 131,
   "metadata": {},
   "outputs": [],
   "source": [
    "simMain = dict()\n",
    "simSide = dict()\n",
    "for D in decklists:\n",
    "    for i,deck in enumerate(decklists[D]):\n",
    "        for ty in deck:\n",
    "            if ty=='SIDEBOARD':\n",
    "                sim=simSide\n",
    "            else:\n",
    "                sim=simMain\n",
    "            for card in deck[ty]:\n",
    "                card = card.split(' ')\n",
    "                freq = card[0]\n",
    "                name = ' '.join(card[1:])\n",
    "                if name not in sim:\n",
    "                    sim[name] = list()\n",
    "                    sim[name].append([i,int(freq)])\n",
    "                else:\n",
    "                    isIn = False\n",
    "                    for i_,freq_ in sim[name]:\n",
    "                        if i_==i:\n",
    "                            isIn=True\n",
    "                            freq_+=int(freq)\n",
    "                    if isIn==False:\n",
    "                        sim[name].append([i,int(freq)])\n"
   ]
  },
  {
   "cell_type": "code",
   "execution_count": 137,
   "metadata": {},
   "outputs": [],
   "source": [
    "sim=simSide\n",
    "d = pd.DataFrame(columns=columns)\n",
    "for i in range(190):\n",
    "    d.loc[i] = 0.0\n",
    "for card in sim:\n",
    "    for deck,freq in sim[card]:\n",
    "        d.loc[deck][card]=freq\n",
    "        \n",
    "corr = d.corr()\n",
    "for index, row in corr.iterrows():\n",
    "    for i,r in enumerate(row):\n",
    "        try:\n",
    "            int(r)\n",
    "        except:\n",
    "            row[i]=-1\n",
    "corrSide=corr"
   ]
  }
 ],
 "metadata": {
  "kernelspec": {
   "display_name": "Python 3",
   "language": "python",
   "name": "python3"
  },
  "language_info": {
   "codemirror_mode": {
    "name": "ipython",
    "version": 3
   },
   "file_extension": ".py",
   "mimetype": "text/x-python",
   "name": "python",
   "nbconvert_exporter": "python",
   "pygments_lexer": "ipython3",
   "version": "3.7.6"
  }
 },
 "nbformat": 4,
 "nbformat_minor": 4
}
