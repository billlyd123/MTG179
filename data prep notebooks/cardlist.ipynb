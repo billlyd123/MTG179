{
 "cells": [
  {
   "cell_type": "code",
   "execution_count": 5,
   "metadata": {},
   "outputs": [],
   "source": [
    "import pandas as pd\n",
    "import json\n",
    "import numpy as np\n"
   ]
  },
  {
   "cell_type": "code",
   "execution_count": 6,
   "metadata": {},
   "outputs": [],
   "source": [
    "# data from https://mtgjson.com/"
   ]
  },
  {
   "cell_type": "code",
   "execution_count": 7,
   "metadata": {},
   "outputs": [],
   "source": [
    "# words = set()\n",
    "\n",
    "# data = json.load(open('Keywords.json'))\n",
    "# for w in data['keywordActions']:\n",
    "#     words.add(w)\n",
    "# for w in data['abilityWords']:\n",
    "#     words.add(w)\n",
    "# for w in data['keywordAbilities']:\n",
    "#     words.add(w)\n",
    "    \n",
    "# data = json.load(open('CardTypes.json'))\n",
    "# for t in data['types']:\n",
    "#     for w in data['types'][t]['subTypes']:\n",
    "#         words.add(w)\n",
    "#     for A in data['types'][t]['superTypes']:\n",
    "#         words.add(w)\n",
    "#     words.add(t)"
   ]
  },
  {
   "cell_type": "code",
   "execution_count": 8,
   "metadata": {},
   "outputs": [],
   "source": [
    "# all_cards = pd.read_json('AllCards.json').transpose()\n",
    "# cols = ['colorIdentity','isReserved','names','faceConvertedManaCost','mtgoFoilId','scryfallOracleId','colorIndicator','convertedManaCost','otherFaceIds','flavorName','isDateStamped','faceConvertedManeCost','side','mtgoId','layout','mtgArenaId','foreignData','printings','purchaseUrls','rulings','hand','edhrecRank','asciiName','isBuyABox','life']\n",
    "# toDrop = []\n",
    "# for col in all_cards.columns:\n",
    "#     if col in cols:\n",
    "#         toDrop.append(col)\n",
    "# all_cards.drop(columns=toDrop,inplace=True)\n",
    "# # columns = ['colors', 'legalities', 'manaCost', 'name', 'subtypes', 'supertypes',\n",
    "# #        'text', 'type', 'types', 'uuid', 'power', 'toughness',\n",
    "# #        'leadershipSkills', 'loyalty', 'hasNoDeckLimit']\n",
    "\n",
    "# for i, text in enumerate(all_cards['text']):\n",
    "#         if type(text)==str:\n",
    "#             text = text.split()\n",
    "#             all_cards.iloc[i][6] = [t for t in text if t in words]\n",
    "#         else:\n",
    "#             all_cards.iloc[i][6] = []"
   ]
  },
  {
   "cell_type": "code",
   "execution_count": null,
   "metadata": {},
   "outputs": [],
   "source": [
    "all_cards"
   ]
  },
  {
   "cell_type": "code",
   "execution_count": null,
   "metadata": {},
   "outputs": [],
   "source": []
  }
 ],
 "metadata": {
  "kernelspec": {
   "display_name": "Python 3",
   "language": "python",
   "name": "python3"
  },
  "language_info": {
   "codemirror_mode": {
    "name": "ipython",
    "version": 3
   },
   "file_extension": ".py",
   "mimetype": "text/x-python",
   "name": "python",
   "nbconvert_exporter": "python",
   "pygments_lexer": "ipython3",
   "version": "3.7.4"
  }
 },
 "nbformat": 4,
 "nbformat_minor": 4
}
