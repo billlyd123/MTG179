{
 "cells": [
  {
   "cell_type": "code",
   "execution_count": 1,
   "metadata": {},
   "outputs": [
    {
     "ename": "ModuleNotFoundError",
     "evalue": "No module named 'selenium'",
     "output_type": "error",
     "traceback": [
      "\u001b[0;31m---------------------------------------------------------------------------\u001b[0m",
      "\u001b[0;31mModuleNotFoundError\u001b[0m                       Traceback (most recent call last)",
      "\u001b[0;32m<ipython-input-1-832cde10bc51>\u001b[0m in \u001b[0;36m<module>\u001b[0;34m\u001b[0m\n\u001b[1;32m      1\u001b[0m \u001b[0;32mimport\u001b[0m \u001b[0mrequests\u001b[0m\u001b[0;34m\u001b[0m\u001b[0;34m\u001b[0m\u001b[0m\n\u001b[1;32m      2\u001b[0m \u001b[0;32mfrom\u001b[0m \u001b[0mbs4\u001b[0m \u001b[0;32mimport\u001b[0m \u001b[0mBeautifulSoup\u001b[0m\u001b[0;34m\u001b[0m\u001b[0;34m\u001b[0m\u001b[0m\n\u001b[0;32m----> 3\u001b[0;31m \u001b[0;32mfrom\u001b[0m \u001b[0mselenium\u001b[0m \u001b[0;32mimport\u001b[0m \u001b[0mwebdriver\u001b[0m\u001b[0;34m\u001b[0m\u001b[0;34m\u001b[0m\u001b[0m\n\u001b[0m\u001b[1;32m      4\u001b[0m \u001b[0;32mfrom\u001b[0m \u001b[0mselenium\u001b[0m\u001b[0;34m.\u001b[0m\u001b[0mwebdriver\u001b[0m\u001b[0;34m.\u001b[0m\u001b[0mcommon\u001b[0m\u001b[0;34m.\u001b[0m\u001b[0mkeys\u001b[0m \u001b[0;32mimport\u001b[0m \u001b[0mKeys\u001b[0m\u001b[0;34m\u001b[0m\u001b[0;34m\u001b[0m\u001b[0m\n\u001b[1;32m      5\u001b[0m \u001b[0;32mfrom\u001b[0m \u001b[0mselenium\u001b[0m\u001b[0;34m.\u001b[0m\u001b[0mwebdriver\u001b[0m\u001b[0;34m.\u001b[0m\u001b[0msupport\u001b[0m\u001b[0;34m.\u001b[0m\u001b[0mui\u001b[0m \u001b[0;32mimport\u001b[0m \u001b[0mWebDriverWait\u001b[0m\u001b[0;34m\u001b[0m\u001b[0;34m\u001b[0m\u001b[0m\n",
      "\u001b[0;31mModuleNotFoundError\u001b[0m: No module named 'selenium'"
     ]
    }
   ],
   "source": [
    "import requests\n",
    "from bs4 import BeautifulSoup\n",
    "from selenium import webdriver\n",
    "from selenium.webdriver.common.keys import Keys\n",
    "from selenium.webdriver.support.ui import WebDriverWait\n",
    "from bs4 import BeautifulSoup\n",
    "\n",
    "import re\n",
    "import time\n",
    "import os\n",
    "import numpy as np\n",
    "import ast"
   ]
  },
  {
   "cell_type": "code",
   "execution_count": 2,
   "metadata": {},
   "outputs": [],
   "source": [
    "#get urls for meta archetypes\n",
    "def getUrls(url):\n",
    "    page = requests.get(url)\n",
    "    soup = BeautifulSoup(page.text,'html.parser')\n",
    "    C = soup.find_all(class_='hover_tr')\n",
    "    A = []\n",
    "    for c in C:\n",
    "        c = str(c)\n",
    "        a = []\n",
    "        if 'archetype' in c:\n",
    "            c = c.split('meta')\n",
    "            c[0] = c[0].split('a=')[1].split('&')[0]\n",
    "            c[1] = c[1].split('>')[1].split('<')[0]\n",
    "            A.append(c)\n",
    "    format_ = url.split('f=')[1].split('&')[0]\n",
    "    f = '&f='+format_+'&meta='+url.split('meta=')[1]\n",
    "    link = ['https://www.mtgtop8.com/archetype?a=',f]\n",
    "    for a in A:\n",
    "        a[0] = link[0]+a[0]+link[1]\n",
    "    return A\n",
    "#get decklist urls from current page\n",
    "def getDecks(B):\n",
    "    C = soup.find_all(class_='hover_tr')\n",
    "    for c in C:\n",
    "        c = str(c)\n",
    "        if 'event' in c:\n",
    "            c = c.split()\n",
    "            for b in c:\n",
    "                if 'href' in b:\n",
    "                    if 'event' in b:\n",
    "                        if 'd=' in b:\n",
    "                            b0 = b.split('e=')[1].split('&')[0]\n",
    "                            b1 = b.split('d=')[1].split('&')[0]  \n",
    "                            link = 'https://www.mtgtop8.com/event?e='+b0+'&d='+b1+'&f=MO'\n",
    "                            B.append(link)\n",
    "#Get decklists for all archetypes and save as csv\n",
    "def decklists(A,s):\n",
    "    df = pd.DataFrame()\n",
    "    for a in A:\n",
    "        df=df.append(pd.Series(data=[a[0],a[1],None]),ignore_index=True)\n",
    "    for index,row in df.iterrows():\n",
    "        if row[2]== np.nan or row[2]==None:\n",
    "            url = row[0]\n",
    "            time.sleep(2)\n",
    "            driver = webdriver.Chrome('./chromedriver')\n",
    "            driver.get(url)\n",
    "            time.sleep(2)\n",
    "            driver.find_element_by_xpath('/html/body/div[6]/div[2]').click()\n",
    "            time.sleep(2)\n",
    "            B = []\n",
    "            flag = True\n",
    "            i = 3\n",
    "            while(flag):\n",
    "                try:\n",
    "                    b = '/html/body/div[3]/div/table/tbody/tr/td[2]/form[2]/table/tbody/tr/td/table/tbody/tr/td['+str(i)+']/div'\n",
    "                    time.sleep(5)\n",
    "                    soup = BeautifulSoup(driver.page_source,'html.parser')\n",
    "                    getDecks(B)\n",
    "                    button = driver.find_element_by_xpath(b)\n",
    "                    button.click()\n",
    "                    time.sleep(5)\n",
    "                    i+=2\n",
    "                except:\n",
    "                    flag=False\n",
    "            time.sleep(5)\n",
    "            driver.quit()\n",
    "            df.iloc[index,2] = B\n",
    "    df.to_csv(s)\n",
    "\n",
    "def getCardDictFromDecklistUrl(url):\n",
    "    page = requests.get(url)\n",
    "    soup = BeautifulSoup(page.text,'html.parser')\n",
    "    T = []\n",
    "    for i in soup.find_all(name='td',class_=['G14','O13']):\n",
    "        T.append(i.text)\n",
    "    decklist = dict()\n",
    "    types = ['LANDS','CREATURES','INSTANTS and SORC.','OTHER SPELLS','SIDEBOARD','COMMANDER']\n",
    "    for type_ in types:\n",
    "        decklist[type_] = []\n",
    "    for t in T:\n",
    "        for ty in types:\n",
    "            if ty in t:\n",
    "                cur_ty = ty\n",
    "        if cur_ty not in t:\n",
    "            decklist[cur_ty].append(t)\n",
    "    return decklist"
   ]
  },
  {
   "cell_type": "code",
   "execution_count": 3,
   "metadata": {},
   "outputs": [],
   "source": [
    "#Find all archetype URLS for modern 2018\n",
    "# url = 'https://www.mtgtop8.com/format?f=MO&meta=163'\n",
    "# A = getUrls(url)\n",
    "# decklists(A,'modernMetaDecks2018.csv')\n"
   ]
  },
  {
   "cell_type": "code",
   "execution_count": 4,
   "metadata": {},
   "outputs": [],
   "source": [
    "#Find all archetype URLS for modern 2019\n",
    "# url = 'https://www.mtgtop8.com/format?f=MO&meta=183'\n",
    "# A = getUrls(url)\n",
    "# decklists(A,'modernMetaDecks2019.csv')\n"
   ]
  },
  {
   "cell_type": "code",
   "execution_count": 5,
   "metadata": {},
   "outputs": [],
   "source": [
    "#Find all archetype URLS for modern 2020\n",
    "# url = 'https://www.mtgtop8.com/format?f=MO&meta=200'\n",
    "# A = getUrls(url)\n",
    "# decklists(A,'modernMetaDecks2020.csv')\n"
   ]
  },
  {
   "cell_type": "code",
   "execution_count": 6,
   "metadata": {},
   "outputs": [],
   "source": [
    "#Find all archetype URLS for commander 2018\n",
    "# url = 'https://www.mtgtop8.com/format?f=EDH&meta=166'\n",
    "# A = getUrls(url)\n",
    "# decklists(A,'commandermetadecks2018.csv')\n"
   ]
  },
  {
   "cell_type": "code",
   "execution_count": 7,
   "metadata": {},
   "outputs": [],
   "source": [
    "#Find all archetype URLS for commander 2019\n",
    "# url = 'https://www.mtgtop8.com/format?f=EDH&meta=181'\n",
    "# A = getUrls(url)\n",
    "# decklists(A,'commandermetadecks2019.csv')\n"
   ]
  },
  {
   "cell_type": "code",
   "execution_count": 8,
   "metadata": {},
   "outputs": [],
   "source": [
    "#Find all archetype URLS for commander 2020\n",
    "# url = 'https://www.mtgtop8.com/format?f=EDH&meta=198'\n",
    "# A = getUrls(url)\n",
    "# decklists(A,'commandermetadecks2020.csv')\n"
   ]
  },
  {
   "cell_type": "code",
   "execution_count": 9,
   "metadata": {},
   "outputs": [
    {
     "data": {
      "text/plain": [
       "['fish: No matches for wildcard “*20*.csv”. See `help expand`.',\n",
       " 'ls *20*.csv',\n",
       " '   ^']"
      ]
     },
     "execution_count": 9,
     "metadata": {},
     "output_type": "execute_result"
    }
   ],
   "source": [
    "#bring in deck csvs\n",
    "decklists = !ls *20*.csv\n",
    "decklists"
   ]
  },
  {
   "cell_type": "code",
   "execution_count": 10,
   "metadata": {},
   "outputs": [
    {
     "ename": "NameError",
     "evalue": "name 'pd' is not defined",
     "output_type": "error",
     "traceback": [
      "\u001b[0;31m---------------------------------------------------------------------------\u001b[0m",
      "\u001b[0;31mNameError\u001b[0m                                 Traceback (most recent call last)",
      "\u001b[0;32m<ipython-input-10-5c85f5e50ed0>\u001b[0m in \u001b[0;36m<module>\u001b[0;34m\u001b[0m\n\u001b[1;32m      2\u001b[0m \u001b[0mD\u001b[0m \u001b[0;34m=\u001b[0m \u001b[0mdict\u001b[0m\u001b[0;34m(\u001b[0m\u001b[0;34m)\u001b[0m\u001b[0;34m\u001b[0m\u001b[0;34m\u001b[0m\u001b[0m\n\u001b[1;32m      3\u001b[0m \u001b[0;32mfor\u001b[0m \u001b[0md\u001b[0m \u001b[0;32min\u001b[0m \u001b[0mdecklists\u001b[0m\u001b[0;34m:\u001b[0m\u001b[0;34m\u001b[0m\u001b[0;34m\u001b[0m\u001b[0m\n\u001b[0;32m----> 4\u001b[0;31m     \u001b[0mD\u001b[0m\u001b[0;34m[\u001b[0m\u001b[0md\u001b[0m\u001b[0;34m]\u001b[0m \u001b[0;34m=\u001b[0m \u001b[0mpd\u001b[0m\u001b[0;34m.\u001b[0m\u001b[0mread_csv\u001b[0m\u001b[0;34m(\u001b[0m\u001b[0md\u001b[0m\u001b[0;34m,\u001b[0m\u001b[0mindex_col\u001b[0m\u001b[0;34m=\u001b[0m\u001b[0;32mFalse\u001b[0m\u001b[0;34m)\u001b[0m\u001b[0;34m\u001b[0m\u001b[0;34m\u001b[0m\u001b[0m\n\u001b[0m\u001b[1;32m      5\u001b[0m \u001b[0;34m\u001b[0m\u001b[0m\n\u001b[1;32m      6\u001b[0m \u001b[0;31m#delete accidential index column\u001b[0m\u001b[0;34m\u001b[0m\u001b[0;34m\u001b[0m\u001b[0;34m\u001b[0m\u001b[0m\n",
      "\u001b[0;31mNameError\u001b[0m: name 'pd' is not defined"
     ]
    }
   ],
   "source": [
    "#read csvs into a dict of dataframes\n",
    "D = dict()\n",
    "for d in decklists:\n",
    "    D[d] = pd.read_csv(d,index_col=False)\n",
    "\n",
    "#delete accidential index column\n",
    "for d in D:\n",
    "    D[d].drop(columns='Unnamed: 0',inplace=True)\n",
    "    D[d].columns=[0,1,2]\n",
    "    D[d][3] = None"
   ]
  },
  {
   "cell_type": "code",
   "execution_count": 11,
   "metadata": {},
   "outputs": [],
   "source": [
    "#read decklists into dataframe\n",
    "for d in D:\n",
    "    for index, row in D[d].iterrows():\n",
    "        try:\n",
    "            row[2] = ast.literal_eval(row[2])\n",
    "        except:\n",
    "            pass\n",
    "        if row[3]==None or type(row[3])==float:\n",
    "            row[3] = []\n",
    "            for deck in row[2]:\n",
    "                decklist = getCardDictFromDecklistUrl(deck)\n",
    "                row[3].append(decklist)"
   ]
  },
  {
   "cell_type": "code",
   "execution_count": 12,
   "metadata": {},
   "outputs": [],
   "source": [
    "# #download decklist files from decklist page and read into csv\n",
    "# for d in D:\n",
    "#     for index,row in D[d].iterrows():\n",
    "#         try:\n",
    "#             row[2] = ast.literal_eval(row[2])\n",
    "#             !rm *.txt\n",
    "#         except:\n",
    "#             pass\n",
    "        \n",
    "#         if row[3]== None or type(row[3])==float:\n",
    "#             row[3] = []\n",
    "#             for url in row[2]:\n",
    "#                 try:\n",
    "#                     driver = webdriver.Chrome('./chromedriver')\n",
    "#                     driver.get(url)\n",
    "#                     time.sleep(2)\n",
    "#                     driver.find_element_by_xpath('/html/body/div[5]/div/table/tbody/tr/td[2]/table[1]/tbody/tr/td[2]/div/a[1]').click()\n",
    "#                     time.sleep(2) \n",
    "#                     driver.quit()\n",
    "#                     time.sleep(2)\n",
    "#                     a = !ls *txt\n",
    "#                     deck = []\n",
    "#                     time.sleep(2)\n",
    "#                     with open(a[0],'r') as f:\n",
    "#                         deck.append(f.read())\n",
    "#                     time.sleep(2)\n",
    "#                     deck = deck[0].split('\\n')\n",
    "#                     deck = [d.split(' ') for d in deck]\n",
    "#                     deck = [(d[0],' '.join(d[1:])) for d in deck]\n",
    "#                     row[3].append(deck)\n",
    "#                     !rm *.txt\n",
    "#                     time.sleep(2)\n",
    "#                 except:\n",
    "#                     row[3].append(None)\n",
    "#                     !rm *.txt\n",
    "\n",
    "# for d in D:\n",
    "#     D[d].to_csv('deckList'+d)"
   ]
  },
  {
   "cell_type": "code",
   "execution_count": null,
   "metadata": {},
   "outputs": [],
   "source": []
  }
 ],
 "metadata": {
  "kernelspec": {
   "display_name": "Python 3",
   "language": "python",
   "name": "python3"
  },
  "language_info": {
   "codemirror_mode": {
    "name": "ipython",
    "version": 3
   },
   "file_extension": ".py",
   "mimetype": "text/x-python",
   "name": "python",
   "nbconvert_exporter": "python",
   "pygments_lexer": "ipython3",
   "version": "3.7.4"
  }
 },
 "nbformat": 4,
 "nbformat_minor": 4
}
